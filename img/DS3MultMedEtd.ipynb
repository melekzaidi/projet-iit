{
  "nbformat": 4,
  "nbformat_minor": 0,
  "metadata": {
    "colab": {
      "provenance": []
    },
    "kernelspec": {
      "name": "python3",
      "display_name": "Python 3"
    },
    "language_info": {
      "name": "python"
    }
  },
  "cells": [
    {
      "cell_type": "markdown",
      "source": [
        "# Exercice 1\n",
        "**Faire les tâches suivante en utilsant la bibilothèque CV2:**\n",
        "1.   Lire les images **\"image0DS3.bmp\"**, **\"image1DS3.bmp\"** et **\"image2DS3.bmp\"**, les affecter respectivement aux variables **Img_0**, **Img_1** et **Img_2**. Enfin les afficher\n",
        "2.   Créer une image en vraie couleurs à 3 canaux **Img_Coul** composée (dans l'ordre) de **Img_0**, **Img_1** et **Img_2**. Enfin Afficher **Img_Coul** et **ses dimensions**\n",
        "3.   **Permuter** la ***composante verte*** et la ***composante rouge*** de **Img_Coul**, appeller la nouvelle image **Img_Mod** et l'afficher\n",
        "4.   Transformer **Img_Mod** à l'éspace **HSV**,  l'affecter à la variable **Img_HSV** et la décomposer en 3 composantes : **H**, **S** et **V**\n",
        "5.   Afficher l'histograme de teintes (la composante H) de **Img_HSV**\n",
        "6.   Convertir **Img_Mod** en ***niveaux de gris***,  l'affecter à la variable **Img_G** et l'afficher\n",
        "7.   Afficher l'histograme de **Img_G**\n",
        "\n",
        "\n",
        "**Répondre aux questions suivante**s (***en remplaçant les ???***)<br>\n",
        "**1)** Comment OpenCV code les couleurs (voir tâche 1 et 2)<br>\n",
        "???????????????????ma reponse?????? <br>\n",
        "**2)** Donner les dimensions de **Img_Coul** (voir tâche 2): <br>\n",
        "????????????????????????????????????? <br>\n",
        "**3)**  Pour ***chaque couleur*** de **Img_Coul** donner sa ***nouvelle couleur*** dans **Img_Mod** (voir tâche 3) <br>\n",
        "Rouge ---> ????????????????????????????????<br>\n",
        "????????????????????????????????<br>\n",
        "????????????????????????????????<br>\n",
        "????????????????????????????????<br>\n",
        "**4)** Peut-on connaitre le ***nombre de pixels de chaque couleur*** dans **Img_Mod** à partir de ***l'histogramme des teintes*** si oui Donner **approximativement** le nombre de pixel de chaque couleur (voir tâche 4-5)<br>\n",
        "????????????????????????????????????? <br>\n",
        "????????????????????????????????????? <br>\n",
        "**5)** Peut-on connaitre le ***nombre de pixels de chaque couleur*** dans **Img_Mod** à partir de ***l'histogramme de l'image en niveaux de gris*** si oui Donner **approximativement** le nombre de pixel de chaque couleur (voir tâche 6-7)  <br>\n",
        "????????????????????????????????????? <br>"
      ],
      "metadata": {
        "id": "miijUGZH8MvB"
      }
    },
    {
      "cell_type": "code",
      "execution_count": null,
      "metadata": {
        "id": "mXy0FshD21th"
      },
      "outputs": [],
      "source": [
        "import numpy as np\n",
        "import cv2\n",
        "from matplotlib import pyplot as plt\n",
        "from google.colab.patches import cv2_imshow\n",
        "\n",
        "print (\"-------------- Img0 ------\")\n",
        "Img_0=cv2.imread(\"image0DS3.bmp\",cv2.IMREAD_UNCHANGED )\n",
        "cv2_imshow(Img_0)\n",
        "\n",
        "\n",
        "print (\"-------------- ImgCoul ------\")\n",
        "Img_Coul = np.zeros((102, 102, 3), dtype='uint8')\n",
        "\n"
      ]
    },
    {
      "cell_type": "markdown",
      "source": [
        "# Exercice 2\n",
        "\n",
        "**Compléter le code pour réaliser les tâches suivantes**<br>\n",
        "Pour distinguer les instruments, utiliser **AmplHarGui=[1,0.5,0,1,0.5]** et **AmplHarVio=[0.1,0.1,0.05,0,0]** les amplitudes des 4 premières **Harmoniques** respectivement d'une **guitar** et d'un **Violon**\n",
        "1.   Créer un son **morceau1** composé de la ***note pure*** **Do** de durée *0.5 seconde* **suivie** de la ***note Guitar*** **Sol** de durée *0.3 seconde*  \n",
        "2.   Créer un son **morceau2** composé de la ***note Violon*** **Sol** de durée *0.3 seconde* **suivie** de la ***note pure*** **Mi** de durée *0.5 seconde*.\n",
        "3.   Créer un son **morceau3** composé de la ***note Guitar*** **Si** de durée *0.4 seconde* **suivie** de la ***note Violon*** **Si** de durée *0.4 seconde*.\n",
        "\n",
        "4.   Créer un son **morceau** qui permet de jouer **morceau1**,  **morceau2** et **morceau3** ***simultanement***\n",
        "6.   Jouer le son **morceau**\n",
        "\n",
        "\n",
        "**Répondre aux questions suivante**s (***en remplaçant les ???***)<br>\n",
        "**1)** Quelle est la durée de **morceau1** (voir tâche 1)  <br>\n",
        "????????????????????????????????????? <br>\n",
        "\n",
        "**2)** Quelle est le rôle de **AmplHarVio** (voir tâche 2)<br>\n",
        "????????????????????????????????????? <br>\n",
        "**3)** **morceau3** est-il **un son pur**, expliquer : (voir tâche 3) <br>\n",
        "????????????????????????????????????? <br>\n",
        "\n",
        "**4)** Quelle sont **les fréquences** de la note **Si Violon** (voir tâche 3)<br>\n",
        "????????????????????????????????????? <br>\n",
        "\n",
        "**5)** Quelle est la durée de **morceau** (voir tâche 4)  <br>\n",
        "????????????????????????????????????? <br>\n"
      ],
      "metadata": {
        "id": "OV01csEDx1Uv"
      }
    },
    {
      "cell_type": "code",
      "source": [
        "import numpy as np\n",
        "from IPython.display import Audio\n",
        "from scipy.io import wavfile\n",
        "framerate = 44100\n",
        "t = np.linspace(0,5,framerate*5) #Instants d'échnatillonage pour 5 secondes\n",
        "\n",
        "# Fréquences des notes musicale\n",
        "freq_Do=261.6\n",
        "freq_Mi=329.6\n",
        "freq_Sol=392.0\n",
        "freq_Si=493.9\n"
      ],
      "metadata": {
        "id": "N23iu8Y2x16X"
      },
      "execution_count": null,
      "outputs": []
    },
    {
      "cell_type": "markdown",
      "source": [
        "# Exercice 3\n",
        "**Répondre aux questions suivante**s (***en remplaçant les ???***)<br>\n",
        "**1)** Que fait ce code : <br>\n",
        "????????????????????????????????????? <br>\n",
        "**2)** De combien de Son pur est composé le morceau <br>\n",
        "????????????????????????????????????? <br>\n",
        "**3)** Quelle est la fréquence et la durée de chaque son pur. De quelles notes musicales s'agit - il ? <br>\n",
        "*freq_Do=261.6 / freq_Re=293.7 / freq_Mi=329.6 / freq_Fa=349.2 / freq_Sol=392.0 / freq_La=440.0 / freq_Si=493.9*\n",
        "<br>\n",
        "????????????????????????????????????? <br>\n",
        "\n",
        "**4)** Quelle est l'ordre de jeu de  ces notes musicales dans le morceau <br>\n",
        "????????????????????????????????????? <br>"
      ],
      "metadata": {
        "id": "XZHoXwFG_LEF"
      }
    },
    {
      "cell_type": "code",
      "source": [
        "import numpy as np\n",
        "from IPython.display import Audio\n",
        "from scipy.io import wavfile\n",
        "import librosa\n",
        "import librosa.display\n",
        "import matplotlib.pyplot as plt\n",
        "\n",
        "# Chemin vers le fichier audio et lecture\n",
        "fichier_audio = \"MorceauDS3.wav\"\n",
        "\n",
        "# Charger le fichier audio\n",
        "signal_audio, frequence_echantillonnage = librosa.load(fichier_audio, sr=None)\n",
        "\n",
        "# Afficher la fondamentale\n",
        "frequence_fondamentale, _ = librosa.piptrack(y=signal_audio, sr=frequence_echantillonnage,fmin=50, fmax=2000)\n",
        "\n",
        "# Calculer le temps pour l'axe x\n",
        "temps = np.linspace(0, len(signal_audio) / frequence_echantillonnage, len(frequence_fondamentale[0]))\n",
        "# Calculer la moyenne de la fréquence fondamentale sur toutes les pistes\n",
        "frequence_fondamentale_moyenne = np.mean(frequence_fondamentale, axis=0)\n",
        "# Afficher la courbe de la fréquence fondamentale moyenne au fil du temps\n",
        "plt.figure(figsize=(10, 4))\n",
        "plt.plot(temps, frequence_fondamentale_moyenne, label='Fréquence fondamentale')\n",
        "plt.xlabel('Temps (s)')\n",
        "plt.ylabel('Fréquence fondamentale (kHz)')\n",
        "plt.ylim(0, 0.8)\n",
        "plt.title('Fréquence fondamentale moyenne au fil du temps')\n",
        "plt.legend()\n",
        "plt.grid(True)\n",
        "plt.show()"
      ],
      "metadata": {
        "id": "_4ar4BGMBDOj"
      },
      "execution_count": null,
      "outputs": []
    }
  ]
}